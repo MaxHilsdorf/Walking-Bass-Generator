{
 "cells": [
  {
   "cell_type": "markdown",
   "metadata": {},
   "source": [
    "# Defining Notes and Chords"
   ]
  },
  {
   "cell_type": "markdown",
   "metadata": {},
   "source": [
    "## Create note objects"
   ]
  },
  {
   "cell_type": "code",
   "execution_count": 186,
   "metadata": {},
   "outputs": [],
   "source": [
    "class note:\n",
    "    def __init__(self, name, midi_pitches):\n",
    "        self.name = name\n",
    "        self.midi_pitches = midi_pitches"
   ]
  },
  {
   "cell_type": "code",
   "execution_count": 188,
   "metadata": {},
   "outputs": [],
   "source": [
    "notes_dict = {\"a\" : [45], \"a#\" : [46], \"b\" : [47], \"c\" : [48], \"c#\" : [49], \"d\" : [50],\n",
    "        \"d#\" : [51], \"e\" : [40], \"f\" : [41], \"f#\" : [42], \"g\" : [43], \"g#\" : [44]}"
   ]
  },
  {
   "cell_type": "code",
   "execution_count": 189,
   "metadata": {},
   "outputs": [],
   "source": [
    "def add_octaves(note_pitch):\n",
    "    for pitch in range(note_pitch[0], 64, 12):\n",
    "        if pitch == note_pitch[0]:\n",
    "            pass\n",
    "        else:\n",
    "            note_pitch.append(pitch)"
   ]
  },
  {
   "cell_type": "code",
   "execution_count": 190,
   "metadata": {},
   "outputs": [],
   "source": [
    "for element in notes_dict.keys():\n",
    "    add_octaves(notes_dict[element])"
   ]
  },
  {
   "cell_type": "code",
   "execution_count": 191,
   "metadata": {},
   "outputs": [],
   "source": [
    "a = note(list(notes_dict.keys())[0], list(notes_dict.values())[0])\n",
    "a_s = note(list(notes_dict.keys())[1], list(notes_dict.values())[1])\n",
    "b = note(list(notes_dict.keys())[2], list(notes_dict.values())[2])\n",
    "c = note(list(notes_dict.keys())[3], list(notes_dict.values())[3])\n",
    "c_s = note(list(notes_dict.keys())[4], list(notes_dict.values())[4])\n",
    "d = note(list(notes_dict.keys())[5], list(notes_dict.values())[5])\n",
    "d_s = note(list(notes_dict.keys())[6], list(notes_dict.values())[6])\n",
    "e = note(list(notes_dict.keys())[7], list(notes_dict.values())[7])\n",
    "f = note(list(notes_dict.keys())[8], list(notes_dict.values())[8])\n",
    "f_s = note(list(notes_dict.keys())[9], list(notes_dict.values())[9])\n",
    "g = note(list(notes_dict.keys())[10], list(notes_dict.values())[10])\n",
    "g_s = note(list(notes_dict.keys())[11], list(notes_dict.values())[11])"
   ]
  },
  {
   "cell_type": "code",
   "execution_count": 192,
   "metadata": {},
   "outputs": [],
   "source": [
    "notes = [a, a_s, b, c, c_s, d, d_s, e, f, f_s, g, g_s]"
   ]
  },
  {
   "cell_type": "markdown",
   "metadata": {},
   "source": [
    "## Create chord objects"
   ]
  },
  {
   "cell_type": "code",
   "execution_count": 193,
   "metadata": {},
   "outputs": [],
   "source": [
    "class Chord:\n",
    "    def __init__(self):\n",
    "        self.name = \"Chord\"\n",
    "        self.mode = self.assign_mode()\n",
    "        \n",
    "    def assign_mode(self):\n",
    "        return Chord.Mode(self)\n",
    "\n",
    "    class Major:\n",
    "        def __init__(self, name, root):\n",
    "            global notes\n",
    "            self.name = name\n",
    "            self.root = int(root)\n",
    "            self.chord_structure = [0, 4, 7, 11]\n",
    "            self.notes = apply_chord_structure(self.chord_structure, notes, self.root)\n",
    "            \n",
    "    class Minor:\n",
    "        def __init__(self, name, root):\n",
    "            global notes\n",
    "            self.name = name\n",
    "            self.root = int(root)\n",
    "            self.chord_structure = [0, 3, 7, 10]\n",
    "            self.notes = apply_chord_structure(self.chord_structure, notes, self.root)\n",
    "            \n",
    "    class Dominant:\n",
    "        def __init__(self, name, root):\n",
    "            global notes\n",
    "            self.name = name\n",
    "            self.root = int(root)\n",
    "            self.chord_structure = [0, 4, 7, 10]\n",
    "            self.notes = apply_chord_structure(self.chord_structure, notes, self.root)\n",
    "            "
   ]
  },
  {
   "cell_type": "code",
   "execution_count": 194,
   "metadata": {},
   "outputs": [],
   "source": [
    "def apply_chord_structure(chord_structure, notes, root):\n",
    "    chord_notes = []\n",
    "    # print(\"The chord structure is: \", chord_structure)\n",
    "    for element in chord_structure:\n",
    "        # print(\"The element is :\", element)\n",
    "        if root + element < len(notes):\n",
    "            chord_notes.append(notes[root + element])\n",
    "        else:\n",
    "            chord_notes.append(notes[-len(notes) + (root + element - len(notes))])\n",
    "        # print(\"The current chord notes are :\", chord_notes)\n",
    "    return chord_notes"
   ]
  },
  {
   "cell_type": "code",
   "execution_count": 195,
   "metadata": {},
   "outputs": [],
   "source": [
    "a_maj = Chord.Major(\"A Major\", 0)\n",
    "a_min = Chord.Minor(\"A Minor\", 0)\n",
    "a_dom = Chord.Dominant(\"A Dominant\", 0)\n",
    "\n",
    "a_s_maj = Chord.Major(\"A# Major\", 1)\n",
    "a_s_min = Chord.Minor(\"A# Minor\", 1)\n",
    "a_s_dom = Chord.Dominant(\"A# Dominant\", 1)\n",
    "\n",
    "b_maj = Chord.Major(\"B Major\", 2)\n",
    "b_min = Chord.Minor(\"B Minor\", 2)\n",
    "b_dom = Chord.Dominant(\"B Dominant\", 2)\n",
    "\n",
    "c_maj = Chord.Major(\"C Major\", 3)\n",
    "c_min = Chord.Minor(\"C Minor\", 3)\n",
    "c_dom = Chord.Dominant(\"C Dominant\", 3)\n",
    "\n",
    "c_s_maj = Chord.Major(\"C# Major\", 4)\n",
    "c_s_min = Chord.Minor(\"C# Minor\", 4)\n",
    "c_s_dom = Chord.Dominant(\"C# Dominant\", 4)\n",
    "\n",
    "d_maj = Chord.Major(\"D Major\", 5)\n",
    "d_min = Chord.Minor(\"D Minor\", 5)\n",
    "d_dom = Chord.Dominant(\"D Dominant\", 5)\n",
    "\n",
    "d_s_maj = Chord.Major(\"D# Major\", 6)\n",
    "d_s_min = Chord.Minor(\"D# Minor\", 6)\n",
    "d_s_dom = Chord.Dominant(\"D# Dominant\", 6)\n",
    "\n",
    "e_maj = Chord.Major(\"E Major\", 7)\n",
    "e_min = Chord.Minor(\"E Minor\", 7)\n",
    "e_dom = Chord.Dominant(\"E Dominant\", 7)\n",
    "\n",
    "f_maj = Chord.Major(\"F Major\", 8)\n",
    "f_min = Chord.Minor(\"F Minor\", 8)\n",
    "f_dom = Chord.Dominant(\"F Dominant\", 8)\n",
    "\n",
    "f_s_maj = Chord.Major(\"F# Major\", 9)\n",
    "f_s_min = Chord.Minor(\"F# Minor\", 9)\n",
    "f_s_dom = Chord.Dominant(\"F# Dominant\", 9)\n",
    "\n",
    "g_maj = Chord.Major(\"G Major\", 10)\n",
    "g_min = Chord.Minor(\"G Minor\", 10)\n",
    "g_dom = Chord.Dominant(\"G Dominant\", 10)\n",
    "\n",
    "g_s_maj = Chord.Major(\"G# Major\", 11)\n",
    "g_s_min = Chord.Minor(\"G# Minor\", 11)\n",
    "g_s_dom = Chord.Dominant(\"G# Dominant\", 11)"
   ]
  },
  {
   "cell_type": "code",
   "execution_count": 196,
   "metadata": {},
   "outputs": [
    {
     "data": {
      "text/plain": [
       "'e g b d'"
      ]
     },
     "execution_count": 196,
     "metadata": {},
     "output_type": "execute_result"
    }
   ],
   "source": [
    "\" \".join([i.name for i in e_min.notes])"
   ]
  },
  {
   "cell_type": "markdown",
   "metadata": {},
   "source": [
    "## Walking Bass Algorithm"
   ]
  },
  {
   "cell_type": "code",
   "execution_count": 260,
   "metadata": {},
   "outputs": [],
   "source": [
    "import random"
   ]
  },
  {
   "cell_type": "code",
   "execution_count": 280,
   "metadata": {},
   "outputs": [],
   "source": [
    "song = [a_min, d_min, g_dom, c_maj, f_maj, f_maj, e_dom, a_min, d_min, g_dom, e_min, d_min, g_dom, c_maj]"
   ]
  },
  {
   "cell_type": "code",
   "execution_count": 2,
   "metadata": {},
   "outputs": [],
   "source": [
    "def write_bars(song):\n",
    "    bass_lines = []\n",
    "    for i in range(len(song)):\n",
    "        bassline = [0, 0, 0, 0]\n",
    "        chord_notes = song[i].notes\n",
    "        # first beat\n",
    "        if i >= 1:\n",
    "            bassline[0] = next_root\n",
    "        else:\n",
    "            bassline[0] = random.choice(chord_notes[0].midi_pitches)\n",
    "        # third beat\n",
    "        bassline[2] = random.choice(chord_notes[2].midi_pitches)\n",
    "        # second beat\n",
    "        if isinstance(song[i], Chord.Major):\n",
    "            bassline[1] = bassline[0] + 4 if check_motion(bassline) == \"up\" else bassline[0] - 1\n",
    "        if isinstance(song[i], Chord.Minor):\n",
    "            bassline[1] = bassline[0] + 3 if check_motion(bassline) == \"up\" else bassline[0] - 2\n",
    "        if isinstance(song[i], Chord.Dominant):\n",
    "            bassline[1] = bassline[0] + 4 if check_motion(bassline) == \"up\" else bassline[0] - 2\n",
    "        # fourth beat\n",
    "        if (i+1) < len(song):\n",
    "            next_root = check_nearest_pitch(bassline[2], song[i+1].notes[0].midi_pitches)\n",
    "            bassline[3] = random.choice([next_root + 1, next_root - 1])\n",
    "        else:\n",
    "            bassline[3] = bassline[2]\n",
    "        \n",
    "        bass_lines.append(bassline)\n",
    "\n",
    "    return bass_lines"
   ]
  },
  {
   "cell_type": "code",
   "execution_count": 282,
   "metadata": {},
   "outputs": [],
   "source": [
    "def check_motion(bassline):\n",
    "    return \"up\" if bassline[0] < bassline[2] else \"down\""
   ]
  },
  {
   "cell_type": "code",
   "execution_count": 283,
   "metadata": {},
   "outputs": [],
   "source": [
    "def check_nearest_pitch(current_pitch, note2):\n",
    "    for i, pitch in enumerate(note2):\n",
    "        if abs(current_pitch-pitch) <= 6:\n",
    "            return pitch\n",
    "        elif i == len(note2)-1:\n",
    "            for i, pitch in enumerate(note2):\n",
    "                if abs(current_pitch-pitch) <= 10:\n",
    "                    return pitch"
   ]
  },
  {
   "cell_type": "code",
   "execution_count": 285,
   "metadata": {},
   "outputs": [
    {
     "data": {
      "text/plain": [
       "[[45, 48, 52, 51],\n",
       " [50, 48, 45, 42],\n",
       " [43, 47, 62, 61],\n",
       " [60, 59, 55, 54],\n",
       " [53, 57, 60, 54],\n",
       " [53, 52, 48, 53],\n",
       " [52, 56, 59, 58],\n",
       " [57, 55, 52, 49],\n",
       " [50, 53, 57, 56],\n",
       " [55, 53, 50, 51],\n",
       " [52, 50, 47, 49],\n",
       " [50, 48, 45, 42],\n",
       " [43, 47, 50, 47],\n",
       " [48, 47, 43, 43]]"
      ]
     },
     "execution_count": 285,
     "metadata": {},
     "output_type": "execute_result"
    }
   ],
   "source": [
    "output = write_bars(song)\n",
    "output"
   ]
  },
  {
   "cell_type": "code",
   "execution_count": null,
   "metadata": {},
   "outputs": [],
   "source": []
  }
 ],
 "metadata": {
  "kernelspec": {
   "display_name": "Python 3",
   "language": "python",
   "name": "python3"
  },
  "language_info": {
   "codemirror_mode": {
    "name": "ipython",
    "version": 3
   },
   "file_extension": ".py",
   "mimetype": "text/x-python",
   "name": "python",
   "nbconvert_exporter": "python",
   "pygments_lexer": "ipython3",
   "version": "3.7.3"
  }
 },
 "nbformat": 4,
 "nbformat_minor": 2
}
